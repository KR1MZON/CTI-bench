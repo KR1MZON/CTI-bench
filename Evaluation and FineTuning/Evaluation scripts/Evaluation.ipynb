{
 "cells": [
  {
   "cell_type": "markdown",
   "metadata": {},
   "source": [
    "## Importing libraries"
   ]
  },
  {
   "cell_type": "code",
   "execution_count": 2,
   "metadata": {},
   "outputs": [],
   "source": [
    "import pandas as pd\n",
    "from tqdm import tqdm\n",
    "import ollama\n",
    "import re\n",
    "from hurry.filesize import size\n",
    "import time\n",
    "from IPython.display import clear_output\n",
    "import json\n",
    "import os"
   ]
  },
  {
   "cell_type": "markdown",
   "metadata": {},
   "source": [
    "## Loading datasets"
   ]
  },
  {
   "cell_type": "code",
   "execution_count": null,
   "metadata": {},
   "outputs": [],
   "source": [
    "cti_mcq_ds = pd.read_csv(\"data\\\\cti-mcq.tsv\", sep=\"\\\\t\", engine='python')\n",
    "cti_rcm_ds_2024 = pd.read_csv(\"data\\\\cti-rcm.tsv\", sep=\"\\\\t\", engine='python')\n",
    "cti_rcm_ds_2021 = pd.read_csv(\n",
    "    \"data\\\\cti-rcm-2021.tsv\", sep=\"\\\\t\", engine='python')\n",
    "cti_taa_ds = pd.read_csv(\"data\\\\cti-taa.tsv\", sep=\"\\\\t\", engine='python')\n",
    "cti_vsp_ds = pd.read_csv(\"data\\\\cti-vsp.tsv\", sep=\"\\\\t\", engine='python')"
   ]
  },
  {
   "cell_type": "markdown",
   "metadata": {},
   "source": [
    "we define a dictionary of the tasks and their datasets"
   ]
  },
  {
   "cell_type": "code",
   "execution_count": 6,
   "metadata": {},
   "outputs": [],
   "source": [
    "tasks_and_datasets_dict = {\n",
    "    \"cti-mcq\": cti_mcq_ds,\n",
    "    \"cti-rcm-2024\": cti_rcm_ds_2024,\n",
    "    \"cti-rcm-2021\": cti_rcm_ds_2021,\n",
    "    \"cti-taa\": cti_taa_ds,\n",
    "    \"cti-vsp\": cti_vsp_ds\n",
    "}"
   ]
  },
  {
   "cell_type": "markdown",
   "metadata": {},
   "source": [
    "we define a dictionary of the models to evaluate"
   ]
  },
  {
   "cell_type": "code",
   "execution_count": 7,
   "metadata": {},
   "outputs": [],
   "source": [
    "models_to_evaluate_dict = {\n",
    "    \"Gemma2-9b-Q8:gemma29bq8 \"\n",
    "}"
   ]
  },
  {
   "cell_type": "code",
   "execution_count": null,
   "metadata": {},
   "outputs": [],
   "source": [
    "for i, model in enumerate(models_to_evaluate_dict.keys()):\n",
    "    print(\n",
    "        f\"Evaluating {model} model, ({i+1}/{len(models_to_evaluate_dict.values())})\")\n",
    "\n",
    "    for task in tasks_and_datasets_dict.keys():\n",
    "\n",
    "        model_task_responses_and_stats_dict = dict()\n",
    "        model_task_responses_and_stats_dict[f\"{task} responses\"] = list()\n",
    "\n",
    "        for j in tqdm(range(len(tasks_and_datasets_dict[task])), desc=f\"Generating {task} responses...\"):\n",
    "            # Generating answer\n",
    "            if i < len(cti_mcq_ds):\n",
    "                response = ollama.generate(model=models_to_evaluate_dict[model], prompt=tasks_and_datasets_dict[task].loc[j, \"Prompt\"], options={\n",
    "                                           \"temperature\": 0, \"top_p\": 1, \"num_predict\": 1000}, keep_alive=3600)\n",
    "            else:\n",
    "                response = ollama.generate(model=models_to_evaluate_dict[model], prompt=tasks_and_datasets_dict[task].loc[j, \"Prompt\"], options={\n",
    "                                           \"temperature\": 0, \"top_p\": 1, \"num_predict\": 1000}, keep_alive=0)\n",
    "\n",
    "            model_task_responses_and_stats_dict[f\"{task} responses\"].append(\n",
    "                {\"index\": j, \"response\": response})\n",
    "\n",
    "        # Define the directory name\n",
    "        output_directory = f\"responses/{model}/Full responses and stats/\"\n",
    "\n",
    "        try:\n",
    "            # Create the directory\n",
    "            os.makedirs(output_directory, exist_ok=True)\n",
    "            print(f\"Directory '{output_directory}' created successfully.\")\n",
    "            with open(f\"{output_directory}{task} generations.json\", \"w\") as f:\n",
    "                json.dump(model_task_responses_and_stats_dict, f, indent=4)\n",
    "        except OSError as e:\n",
    "            print(f\"Error creating directory: {e}\")\n",
    "\n",
    "        del model_task_responses_and_stats_dict"
   ]
  },
  {
   "cell_type": "code",
   "execution_count": 8,
   "metadata": {},
   "outputs": [],
   "source": [
    "fine_tuning_eval = {\n",
    "    \"Llama3.1_ft_v1\": \"Llama3.1_ft_1:latest\",\n",
    "    \"Llama3.1_ft_v1.1\": \"Llama3.1_ft_2:latest\",\n",
    "}"
   ]
  },
  {
   "cell_type": "code",
   "execution_count": null,
   "metadata": {},
   "outputs": [],
   "source": [
    "for i, model in enumerate(fine_tuning_eval.keys()):\n",
    "    print(\n",
    "        f\"Evaluating {model} model, ({i+1}/{len(fine_tuning_eval.values())})\")\n",
    "\n",
    "    for task in tasks_and_datasets_dict.keys():\n",
    "\n",
    "        model_task_responses_and_stats_dict = dict()\n",
    "        model_task_responses_and_stats_dict[f\"{task} responses\"] = list()\n",
    "\n",
    "        for j in tqdm(range(len(tasks_and_datasets_dict[task])), desc=f\"Generating {task} responses...\"):\n",
    "            # Generating answer\n",
    "            if i < len(cti_mcq_ds):\n",
    "                response = ollama.generate(model=fine_tuning_eval[model], prompt=tasks_and_datasets_dict[task].loc[j, \"Prompt\"], options={\n",
    "                                           \"temperature\": 0, \"top_p\": 1}, keep_alive=3600)\n",
    "            else:\n",
    "                response = ollama.generate(model=fine_tuning_eval[model], prompt=tasks_and_datasets_dict[task].loc[j, \"Prompt\"], options={\n",
    "                                           \"temperature\": 0, \"top_p\": 1}, keep_alive=0)\n",
    "\n",
    "            model_task_responses_and_stats_dict[f\"{task} responses\"].append(\n",
    "                {\"index\": j, \"response\": response})\n",
    "\n",
    "        # Define the directory name\n",
    "        output_directory = f\"responses/{model}/Full responses and stats/\"\n",
    "\n",
    "        try:\n",
    "            # Create the directory\n",
    "            os.makedirs(output_directory, exist_ok=True)\n",
    "            print(f\"Directory '{output_directory}' created successfully.\")\n",
    "            with open(f\"{output_directory}{task} generations.json\", \"w\") as f:\n",
    "                json.dump(model_task_responses_and_stats_dict, f, indent=4)\n",
    "        except OSError as e:\n",
    "            print(f\"Error creating directory: {e}\")\n",
    "\n",
    "        del model_task_responses_and_stats_dict"
   ]
  },
  {
   "cell_type": "code",
   "execution_count": null,
   "metadata": {},
   "outputs": [],
   "source": [
    "for i, model in enumerate(models_to_evaluate_dict.keys()):\n",
    "    print(\n",
    "        f\"Evaluating {model} model, ({i+1}/{len(models_to_evaluate_dict.values())})\")\n",
    "\n",
    "    for task in tasks_and_datasets_dict.keys():\n",
    "\n",
    "        model_task_responses_and_stats_dict = dict()\n",
    "        model_task_responses_and_stats_dict[f\"{task} responses\"] = list()\n",
    "\n",
    "        for j in tqdm(range(len(tasks_and_datasets_dict[task])), desc=f\"Generating {task} responses...\"):\n",
    "            # Generating answer\n",
    "            if i < len(cti_mcq_ds):\n",
    "                response = ollama.generate(model=models_to_evaluate_dict[model], prompt=tasks_and_datasets_dict[task].loc[j, \"Prompt\"], options={\n",
    "                                           \"temperature\": 0, \"top_p\": 1}, keep_alive=3600)\n",
    "            else:\n",
    "                response = ollama.generate(model=models_to_evaluate_dict[model], prompt=tasks_and_datasets_dict[task].loc[j, \"Prompt\"], options={\n",
    "                                           \"temperature\": 0, \"top_p\": 1}, keep_alive=0)\n",
    "\n",
    "            model_task_responses_and_stats_dict[f\"{task} responses\"].append(\n",
    "                {\"index\": j, \"response\": response})\n",
    "\n",
    "        # Define the directory name\n",
    "        output_directory = f\"C:/internship/responses/{model}/Full responses and stats/\"\n",
    "\n",
    "        try:\n",
    "            # Create the directory\n",
    "            os.makedirs(output_directory, exist_ok=True)\n",
    "            print(f\"Directory '{output_directory}' created successfully.\")\n",
    "            with open(f\"{output_directory}{task} generations.json\", \"w\") as f:\n",
    "                json.dump(model_task_responses_and_stats_dict, f, indent=4)\n",
    "        except OSError as e:\n",
    "            print(f\"Error creating directory: {e}\")\n",
    "\n",
    "        del model_task_responses_and_stats_dict"
   ]
  },
  {
   "cell_type": "code",
   "execution_count": null,
   "metadata": {},
   "outputs": [],
   "source": []
  }
 ],
 "metadata": {
  "kernelspec": {
   "display_name": "Python 3",
   "language": "python",
   "name": "python3"
  },
  "language_info": {
   "codemirror_mode": {
    "name": "ipython",
    "version": 3
   },
   "file_extension": ".py",
   "mimetype": "text/x-python",
   "name": "python",
   "nbconvert_exporter": "python",
   "pygments_lexer": "ipython3",
   "version": "3.12.4"
  }
 },
 "nbformat": 4,
 "nbformat_minor": 2
}
